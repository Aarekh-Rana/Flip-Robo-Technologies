{
 "cells": [
  {
   "cell_type": "code",
   "execution_count": 1,
   "metadata": {},
   "outputs": [],
   "source": [
    "import matplotlib.pyplot as plt\n",
    "import matplotlib.pyplot as plt\n",
    "import tensorflow as tf\n",
    "import numpy as np\n",
    "import cv2\n",
    "import os\n",
    "\n",
    "from tensorflow.keras.preprocessing.image import ImageDataGenerator\n",
    "from tensorflow.keras.optimizers import RMSprop,Adam\n",
    "from tensorflow.keras.preprocessing import image"
   ]
  },
  {
   "cell_type": "code",
   "execution_count": 2,
   "metadata": {},
   "outputs": [],
   "source": [
    "#lets now load a image\n",
    "\n",
    "input_image=cv2.imread('C:/Users/aarek/mens_pants/train/jeans/img_25.jpeg')\n",
    "\n",
    "#display our image\n",
    "\n",
    "cv2.imshow('Jeans',input_image)\n",
    "cv2.waitKey(0)\n",
    "cv2.destroyAllWindows()\n"
   ]
  },
  {
   "cell_type": "code",
   "execution_count": 3,
   "metadata": {},
   "outputs": [
    {
     "name": "stdout",
     "output_type": "stream",
     "text": [
      "(395, 329, 3)\n"
     ]
    }
   ],
   "source": [
    "print(input_image.shape)"
   ]
  },
  {
   "cell_type": "code",
   "execution_count": 4,
   "metadata": {},
   "outputs": [
    {
     "name": "stdout",
     "output_type": "stream",
     "text": [
      "Height of image 395 pixels\n",
      "width of image 329 pixels\n"
     ]
    }
   ],
   "source": [
    "print('Height of image',input_image.shape[0],'pixels')\n",
    "print('width of image',input_image.shape[1],'pixels')"
   ]
  },
  {
   "cell_type": "code",
   "execution_count": 5,
   "metadata": {},
   "outputs": [],
   "source": [
    "################################ For Loading Images From Existing Dataset Of System To List ####################################\n",
    "\n",
    "pant_data = \"C:/Users/aarek/mens_pants/train\"\n",
    "\n",
    "jeans_data=[]\n",
    "trousers_data=[]\n",
    "\n",
    "CATEGORIES = [\"jeans\", \"trousers\"]\n",
    "\n",
    "for category in CATEGORIES:  # do jeans and trousers\n",
    "    data_path = os.path.join(pant_data,category)  # create path to do jeans and trousers\n",
    "    for img in os.listdir(data_path):  # iterate over each image per do jeans and trousers\n",
    "        if category==\"jeans\":\n",
    "            jeans_data.append(img)\n",
    "        else:\n",
    "            trousers_data.append(img)\n",
    "   \n"
   ]
  },
  {
   "cell_type": "code",
   "execution_count": 6,
   "metadata": {},
   "outputs": [
    {
     "name": "stdout",
     "output_type": "stream",
     "text": [
      "Total Jeans Are :  80\n",
      "Total Trousers Are :  80\n"
     ]
    }
   ],
   "source": [
    "print(\"Total Jeans Are : \",len(jeans_data))\n",
    "print(\"Total Trousers Are : \",len(trousers_data))"
   ]
  },
  {
   "cell_type": "code",
   "execution_count": 7,
   "metadata": {},
   "outputs": [
    {
     "data": {
      "text/plain": [
       "['img_0.jpeg',\n",
       " 'img_1.jpeg',\n",
       " 'img_10.jpeg',\n",
       " 'img_11.jpeg',\n",
       " 'img_12.jpeg',\n",
       " 'img_13.jpeg',\n",
       " 'img_14.jpeg',\n",
       " 'img_15.jpeg',\n",
       " 'img_16.jpeg',\n",
       " 'img_17.jpeg',\n",
       " 'img_18.jpeg',\n",
       " 'img_19.jpeg',\n",
       " 'img_2.jpeg',\n",
       " 'img_20.jpeg',\n",
       " 'img_21.jpeg',\n",
       " 'img_22.jpeg',\n",
       " 'img_23.jpeg',\n",
       " 'img_24.jpeg',\n",
       " 'img_25.jpeg',\n",
       " 'img_26.jpeg',\n",
       " 'img_27.jpeg',\n",
       " 'img_28.jpeg',\n",
       " 'img_29.jpeg',\n",
       " 'img_3.jpeg',\n",
       " 'img_30.jpeg',\n",
       " 'img_31.jpeg',\n",
       " 'img_32.jpeg',\n",
       " 'img_38.jpeg',\n",
       " 'img_39.jpeg',\n",
       " 'img_4.jpeg',\n",
       " 'img_40.jpeg',\n",
       " 'img_41.jpeg',\n",
       " 'img_42.jpeg',\n",
       " 'img_43.jpeg',\n",
       " 'img_49.jpeg',\n",
       " 'img_5.jpeg',\n",
       " 'img_50.jpeg',\n",
       " 'img_51.jpeg',\n",
       " 'img_52.jpeg',\n",
       " 'img_53.jpeg',\n",
       " 'img_54.jpeg',\n",
       " 'img_6.jpeg',\n",
       " 'img_60.jpeg',\n",
       " 'img_61.jpeg',\n",
       " 'img_62.jpeg',\n",
       " 'img_63.jpeg',\n",
       " 'img_64.jpeg',\n",
       " 'img_65.jpeg',\n",
       " 'img_7.jpeg',\n",
       " 'img_71.jpeg',\n",
       " 'img_72.jpeg',\n",
       " 'img_73.jpeg',\n",
       " 'img_74.jpeg',\n",
       " 'img_75.jpeg',\n",
       " 'img_76.jpeg',\n",
       " 'img_77.jpeg',\n",
       " 'img_78.jpeg',\n",
       " 'img_79.jpeg',\n",
       " 'img_8.jpeg',\n",
       " 'img_80.jpeg',\n",
       " 'img_81.jpeg',\n",
       " 'img_82.jpeg',\n",
       " 'img_83.jpeg',\n",
       " 'img_84.jpeg',\n",
       " 'img_85.jpeg',\n",
       " 'img_86.jpeg',\n",
       " 'img_87.jpeg',\n",
       " 'img_88.jpeg',\n",
       " 'img_89.jpeg',\n",
       " 'img_9.jpeg',\n",
       " 'img_90.jpeg',\n",
       " 'img_91.jpeg',\n",
       " 'img_92.jpeg',\n",
       " 'img_93.jpeg',\n",
       " 'img_94.jpeg',\n",
       " 'img_95.jpeg',\n",
       " 'img_96.jpeg',\n",
       " 'img_97.jpeg',\n",
       " 'img_98.jpeg',\n",
       " 'img_99.jpeg']"
      ]
     },
     "execution_count": 7,
     "metadata": {},
     "output_type": "execute_result"
    }
   ],
   "source": [
    "jeans_data"
   ]
  },
  {
   "cell_type": "code",
   "execution_count": 8,
   "metadata": {},
   "outputs": [],
   "source": [
    "########################################### below code to read image from main path ############################################\n",
    "\n",
    "#img =jeans_data[0]\n",
    "#img_array = cv2.imread(os.path.join(path,img) ,cv2.IMREAD_GRAYSCALE)  # convert to array\n",
    "#plt.imshow(img_array, cmap='gray')  # graph it\n",
    "#plt.show()  # display!\n"
   ]
  },
  {
   "cell_type": "code",
   "execution_count": 9,
   "metadata": {},
   "outputs": [],
   "source": [
    "def rotate(image):\n",
    "    \n",
    "    image= cv2.imread(os.path.join(path,img))\n",
    "    \n",
    "    height,width =image.shape[:2]\n",
    "    \n",
    "    rotation_matrix=cv2.getRotationMatrix2D((width/2,height/2),270,.7)\n",
    "\n",
    "    rotated_image=cv2.warpAffine(image,rotation_matrix,(width,height))\n",
    "    cv2.imwrite(os.path.join(path , 'pic{:>05}.jpg'.format(i)), rotated_image)\n",
    "    "
   ]
  },
  {
   "cell_type": "code",
   "execution_count": 10,
   "metadata": {},
   "outputs": [],
   "source": [
    "def increase_brightness(image):\n",
    "    \n",
    "    image= cv2.imread(os.path.join(path,img))\n",
    "    \n",
    "    M=np.ones(image.shape,dtype='uint8')*70\n",
    "    \n",
    "    increased_brightness_image=cv2.add(image,M)\n",
    "    cv2.imwrite(os.path.join(path , 'pic{:>06}.jpg'.format(i)), increased_brightness_image)"
   ]
  },
  {
   "cell_type": "code",
   "execution_count": 11,
   "metadata": {},
   "outputs": [],
   "source": [
    "def decrease_brightness(image):\n",
    "    \n",
    "    image= cv2.imread(os.path.join(path,img))\n",
    "    \n",
    "    M=np.ones(image.shape,dtype='uint8')*90\n",
    "    \n",
    "    decreased_brightness_image=cv2.subtract(image,M)\n",
    "    cv2.imwrite(os.path.join(path , 'pic{:>07}.jpg'.format(i)), decreased_brightness_image)"
   ]
  },
  {
   "cell_type": "code",
   "execution_count": 12,
   "metadata": {},
   "outputs": [],
   "source": [
    "def flip(image):\n",
    "    \n",
    "    image= cv2.imread(os.path.join(path,img))\n",
    "    \n",
    "    flipped_image=cv2.flip(image,2)\n",
    "    cv2.imwrite(os.path.join(path , 'pic{:>08}.jpg'.format(i)), flipped_image)"
   ]
  },
  {
   "cell_type": "code",
   "execution_count": 13,
   "metadata": {},
   "outputs": [],
   "source": [
    "def sharpen(image):\n",
    "\n",
    "    image= cv2.imread(os.path.join(path,img))\n",
    "\n",
    "    kernel_sharpening=np.array([[-1,-1,-1],\n",
    "                                [-1,10,-1],\n",
    "                                [-1,-1,-1]])\n",
    "    sharpened_image=cv2.filter2D(image,-1,kernel_sharpening)\n",
    "    cv2.imwrite(os.path.join(path , 'pic{:>09}.jpg'.format(i)), sharpened_image)"
   ]
  },
  {
   "cell_type": "code",
   "execution_count": 14,
   "metadata": {},
   "outputs": [],
   "source": [
    "############################################ DATA AUGMENTATION FOR JEANS ###################################################### \n",
    "\n",
    "path = \"C:/Users/aarek/mens_pants/train/jeans\"\n",
    "    \n",
    "for i in range(len(jeans_data)):\n",
    "    img=jeans_data[i]\n",
    "    rotate(image)\n",
    "    increase_brightness(image)\n",
    "    decrease_brightness(image)\n",
    "    flip(image)\n",
    "    sharpen(image)"
   ]
  },
  {
   "cell_type": "code",
   "execution_count": 15,
   "metadata": {},
   "outputs": [],
   "source": [
    "############################################ DATA AUGMENTATION FOR TROUSERS #################################################### \n",
    "\n",
    "path = \"C:/Users/aarek/mens_pants/train/trousers\"\n",
    "    \n",
    "for i in range(len(trousers_data)):\n",
    "    img=trousers_data[i]\n",
    "    rotate(image)\n",
    "    increase_brightness(image)\n",
    "    decrease_brightness(image)\n",
    "    flip(image)\n",
    "    sharpen(image)"
   ]
  },
  {
   "cell_type": "code",
   "execution_count": 17,
   "metadata": {},
   "outputs": [],
   "source": [
    "#TO CHECK THE TOTAL IMAGES IN DATA SET AFTER DATA AUGMENTATION (it should be 480 images in each folder as I have 80 pic in each) )\n",
    "\n",
    "pant_data_augmented = \"C:/Users/aarek/mens_pants/train\"\n",
    "\n",
    "jeans_data_augmented=[]\n",
    "trousers_data_augmented=[]\n",
    "CATEGORIES = [\"jeans\", \"trousers\"]\n",
    "\n",
    "for category in CATEGORIES:  # do jeans and trousers\n",
    "    data_path = os.path.join(pant_data,category)  # create path to do jeans and trousers\n",
    "    for img in os.listdir(data_path):  # iterate over each image per do jeans and trousers\n",
    "        if category==\"jeans\":\n",
    "            jeans_data_augmented.append(img)\n",
    "        else:\n",
    "            trousers_data_augmented.append(img)"
   ]
  },
  {
   "cell_type": "code",
   "execution_count": 18,
   "metadata": {},
   "outputs": [
    {
     "name": "stdout",
     "output_type": "stream",
     "text": [
      "After Data-Augmentation The Total Jeans Are :  480\n",
      "After Data-Augmentation The Total Trousers Are :  480\n"
     ]
    }
   ],
   "source": [
    "print(\"After Data-Augmentation The Total Jeans Are : \",len(jeans_data_augmented))\n",
    "print(\"After Data-Augmentation The Total Trousers Are : \",len(trousers_data_augmented))"
   ]
  },
  {
   "cell_type": "code",
   "execution_count": null,
   "metadata": {},
   "outputs": [],
   "source": []
  }
 ],
 "metadata": {
  "kernelspec": {
   "display_name": "Python 3",
   "language": "python",
   "name": "python3"
  },
  "language_info": {
   "codemirror_mode": {
    "name": "ipython",
    "version": 3
   },
   "file_extension": ".py",
   "mimetype": "text/x-python",
   "name": "python",
   "nbconvert_exporter": "python",
   "pygments_lexer": "ipython3",
   "version": "3.7.6"
  }
 },
 "nbformat": 4,
 "nbformat_minor": 4
}
